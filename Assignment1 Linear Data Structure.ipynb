{
 "cells": [
  {
   "cell_type": "code",
   "execution_count": 3,
   "id": "36c29fe5",
   "metadata": {},
   "outputs": [
    {
     "name": "stdout",
     "output_type": "stream",
     "text": [
      "Pairs with sum 10: [(6, 4), (1, 9)]\n"
     ]
    }
   ],
   "source": [
    "def find_pairs_with_sum(arr, target_sum): # Q1\n",
    "    pairs = []\n",
    "    seen = set()\n",
    "\n",
    "    for num in arr:\n",
    "        complement = target_sum - num\n",
    "        if complement in seen:\n",
    "            pairs.append((num, complement))\n",
    "        seen.add(num)\n",
    "\n",
    "    return pairs\n",
    "\n",
    "# Example usage\n",
    "arr = [2, 4, 3, 6, 9, 1, 5]\n",
    "target_sum = 10\n",
    "pairs = find_pairs_with_sum(arr, target_sum)\n",
    "\n",
    "print(f\"Pairs with sum {target_sum}: {pairs}\")\n"
   ]
  },
  {
   "cell_type": "code",
   "execution_count": 4,
   "id": "5753f5fc",
   "metadata": {},
   "outputs": [
    {
     "name": "stdout",
     "output_type": "stream",
     "text": [
      "Original array: [1, 2, 3, 4, 5]\n",
      "Reversed array: [5, 4, 3, 2, 1]\n"
     ]
    }
   ],
   "source": [
    "def reverse_array_in_place(arr): #Q2\n",
    "    left = 0\n",
    "    right = len(arr) - 1\n",
    "\n",
    "    while left < right:\n",
    "        arr[left], arr[right] = arr[right], arr[left]\n",
    "        left += 1\n",
    "        right -= 1\n",
    "\n",
    "# Example usage\n",
    "arr = [1, 2, 3, 4, 5]\n",
    "print(\"Original array:\", arr)\n",
    "\n",
    "reverse_array_in_place(arr)\n",
    "print(\"Reversed array:\", arr)\n"
   ]
  },
  {
   "cell_type": "code",
   "execution_count": 5,
   "id": "4844bb94",
   "metadata": {},
   "outputs": [
    {
     "name": "stdout",
     "output_type": "stream",
     "text": [
      "'rotation' and 'tationro' are rotations of each other.\n"
     ]
    }
   ],
   "source": [
    "def are_rotations(str1, str2): #Q3\n",
    "    if len(str1) != len(str2):\n",
    "        return False\n",
    "\n",
    "    combined = str1 + str1\n",
    "    if str2 in combined:\n",
    "        return True\n",
    "    else:\n",
    "        return False\n",
    "\n",
    "# Example usage\n",
    "string1 = \"rotation\"\n",
    "string2 = \"tationro\"\n",
    "if are_rotations(string1, string2):\n",
    "    print(f\"'{string1}' and '{string2}' are rotations of each other.\")\n",
    "else:\n",
    "    print(f\"'{string1}' and '{string2}' are not rotations of each other.\")\n"
   ]
  },
  {
   "cell_type": "code",
   "execution_count": 6,
   "id": "9065700e",
   "metadata": {},
   "outputs": [
    {
     "name": "stdout",
     "output_type": "stream",
     "text": [
      "The first non-repeated character is: d\n"
     ]
    }
   ],
   "source": [
    "def first_non_repeated_char(string): # Q4\n",
    "    char_count = {}\n",
    "\n",
    "    # Count the occurrences of each character\n",
    "    for char in string:\n",
    "        if char in char_count:\n",
    "            char_count[char] += 1\n",
    "        else:\n",
    "            char_count[char] = 1\n",
    "\n",
    "    # Find the first non-repeated character\n",
    "    for char in string:\n",
    "        if char_count[char] == 1:\n",
    "            return char\n",
    "\n",
    "    return None\n",
    "\n",
    "# Example usage\n",
    "input_string = \"aabbccd\"\n",
    "result = first_non_repeated_char(input_string)\n",
    "\n",
    "if result:\n",
    "    print(f\"The first non-repeated character is: {result}\")\n",
    "else:\n",
    "    print(\"No non-repeated character found in the string.\")\n"
   ]
  },
  {
   "cell_type": "code",
   "execution_count": 7,
   "id": "a9642dd1",
   "metadata": {},
   "outputs": [
    {
     "name": "stdout",
     "output_type": "stream",
     "text": [
      "Move disk 1 from A to C\n",
      "Move disk 2 from A to B\n",
      "Move disk 1 from C to B\n",
      "Move disk 3 from A to C\n",
      "Move disk 1 from B to A\n",
      "Move disk 2 from B to C\n",
      "Move disk 1 from A to C\n"
     ]
    }
   ],
   "source": [
    "def tower_of_hanoi(n, source, target, auxiliary): #Q5\n",
    "    if n == 1:\n",
    "        print(f\"Move disk 1 from {source} to {target}\")\n",
    "        return\n",
    "    tower_of_hanoi(n - 1, source, auxiliary, target)\n",
    "    print(f\"Move disk {n} from {source} to {target}\")\n",
    "    tower_of_hanoi(n - 1, auxiliary, target, source)\n",
    "\n",
    "# Example usage\n",
    "n = 3  # Number of disks\n",
    "tower_of_hanoi(n, 'A', 'C', 'B')  # A, B, and C are rod names\n"
   ]
  },
  {
   "cell_type": "code",
   "execution_count": 8,
   "id": "90beed07",
   "metadata": {},
   "outputs": [
    {
     "name": "stdout",
     "output_type": "stream",
     "text": [
      "Prefix expression: +*235\n"
     ]
    }
   ],
   "source": [
    "def postfix_to_prefix(postfix):  # Q6\n",
    "    stack = []\n",
    "    \n",
    "    for symbol in postfix:\n",
    "        if symbol.isalnum():  # Operand\n",
    "            stack.append(symbol)\n",
    "        else:  # Operator\n",
    "            operand2 = stack.pop()\n",
    "            operand1 = stack.pop()\n",
    "            new_operand = symbol + operand1 + operand2\n",
    "            stack.append(new_operand)\n",
    "    \n",
    "    return stack.pop()\n",
    "\n",
    "# Example usage\n",
    "postfix_expression = \"23*5+\"\n",
    "prefix_expression = postfix_to_prefix(postfix_expression)\n",
    "print(\"Prefix expression:\", prefix_expression)\n"
   ]
  },
  {
   "cell_type": "code",
   "execution_count": 9,
   "id": "fb604498",
   "metadata": {},
   "outputs": [
    {
     "name": "stdout",
     "output_type": "stream",
     "text": [
      "Infix expression: ((2*3)+(4-5))\n"
     ]
    }
   ],
   "source": [
    "def is_operator(char):  # Q7\n",
    "    return char in \"+-*/\"\n",
    "\n",
    "def prefix_to_infix(prefix):\n",
    "    stack = []\n",
    "\n",
    "    for symbol in reversed(prefix):\n",
    "        if symbol.isalnum():  # Operand\n",
    "            stack.append(symbol)\n",
    "        elif is_operator(symbol):  # Operator\n",
    "            operand1 = stack.pop()\n",
    "            operand2 = stack.pop()\n",
    "            new_expression = f\"({operand1}{symbol}{operand2})\"\n",
    "            stack.append(new_expression)\n",
    "\n",
    "    return stack.pop()\n",
    "\n",
    "# Example usage\n",
    "prefix_expression = \"+*23-45\"\n",
    "infix_expression = prefix_to_infix(prefix_expression)\n",
    "print(\"Infix expression:\", infix_expression)\n"
   ]
  },
  {
   "cell_type": "code",
   "execution_count": 10,
   "id": "dc2cf042",
   "metadata": {},
   "outputs": [
    {
     "name": "stdout",
     "output_type": "stream",
     "text": [
      "All brackets are properly closed.\n"
     ]
    }
   ],
   "source": [
    "def are_brackets_closed(code): #Q8\n",
    "    stack = []\n",
    "    bracket_pairs = {')': '(', ']': '[', '}': '{'}\n",
    "\n",
    "    for char in code:\n",
    "        if char in '([{':\n",
    "            stack.append(char)\n",
    "        elif char in ')]}':\n",
    "            if not stack or stack[-1] != bracket_pairs[char]:\n",
    "                return False\n",
    "            stack.pop()\n",
    "\n",
    "    return len(stack) == 0\n",
    "\n",
    "# Example usage\n",
    "code_snippet = \"(a + b) * [c - {d + e}]\"\n",
    "if are_brackets_closed(code_snippet):\n",
    "    print(\"All brackets are properly closed.\")\n",
    "else:\n",
    "    print(\"Some brackets are not properly closed.\")\n"
   ]
  },
  {
   "cell_type": "code",
   "execution_count": 11,
   "id": "03e38235",
   "metadata": {},
   "outputs": [
    {
     "name": "stdout",
     "output_type": "stream",
     "text": [
      "Original Stack: [1, 2, 3, 4]\n",
      "Reversed Stack: [4, 3, 2, 1]\n"
     ]
    }
   ],
   "source": [
    "class Stack:           #Q9\n",
    "    def __init__(self):\n",
    "        self.items = []\n",
    "\n",
    "    def push(self, item):\n",
    "        self.items.append(item)\n",
    "\n",
    "    def pop(self):\n",
    "        if not self.is_empty():\n",
    "            return self.items.pop()\n",
    "\n",
    "    def peek(self):\n",
    "        if not self.is_empty():\n",
    "            return self.items[-1]\n",
    "\n",
    "    def is_empty(self):\n",
    "        return len(self.items) == 0\n",
    "\n",
    "    def size(self):\n",
    "        return len(self.items)\n",
    "\n",
    "def reverse_stack(stack):\n",
    "    if not stack.is_empty():\n",
    "        temp = stack.pop()\n",
    "        reverse_stack(stack)\n",
    "        insert_at_bottom(stack, temp)\n",
    "\n",
    "def insert_at_bottom(stack, item):\n",
    "    if stack.is_empty():\n",
    "        stack.push(item)\n",
    "    else:\n",
    "        temp = stack.pop()\n",
    "        insert_at_bottom(stack, item)\n",
    "        stack.push(temp)\n",
    "\n",
    "# Example usage\n",
    "stack = Stack()\n",
    "stack.push(1)\n",
    "stack.push(2)\n",
    "stack.push(3)\n",
    "stack.push(4)\n",
    "\n",
    "print(\"Original Stack:\", stack.items)\n",
    "\n",
    "reverse_stack(stack)\n",
    "\n",
    "print(\"Reversed Stack:\", stack.items)\n"
   ]
  },
  {
   "cell_type": "code",
   "execution_count": 12,
   "id": "289ecdb4",
   "metadata": {},
   "outputs": [
    {
     "name": "stdout",
     "output_type": "stream",
     "text": [
      "Smallest number: 1\n"
     ]
    }
   ],
   "source": [
    "class MinStack:             #Q10\n",
    "    def __init__(self):\n",
    "        self.items = []\n",
    "        self.min_values = []\n",
    "\n",
    "    def push(self, item):\n",
    "        self.items.append(item)\n",
    "        if not self.min_values or item <= self.min_values[-1]:\n",
    "            self.min_values.append(item)\n",
    "\n",
    "    def pop(self):\n",
    "        if not self.is_empty():\n",
    "            popped_item = self.items.pop()\n",
    "            if popped_item == self.min_values[-1]:\n",
    "                self.min_values.pop()\n",
    "            return popped_item\n",
    "\n",
    "    def get_min(self):\n",
    "        if not self.is_empty():\n",
    "            return self.min_values[-1]\n",
    "\n",
    "    def is_empty(self):\n",
    "        return len(self.items) == 0\n",
    "\n",
    "    def size(self):\n",
    "        return len(self.items)\n",
    "\n",
    "# Example usage\n",
    "stack = MinStack()\n",
    "stack.push(4)\n",
    "stack.push(2)\n",
    "stack.push(5)\n",
    "stack.push(1)\n",
    "\n",
    "print(\"Smallest number:\", stack.get_min())\n"
   ]
  },
  {
   "cell_type": "code",
   "execution_count": null,
   "id": "332701d8",
   "metadata": {},
   "outputs": [],
   "source": []
  }
 ],
 "metadata": {
  "kernelspec": {
   "display_name": "Python 3 (ipykernel)",
   "language": "python",
   "name": "python3"
  },
  "language_info": {
   "codemirror_mode": {
    "name": "ipython",
    "version": 3
   },
   "file_extension": ".py",
   "mimetype": "text/x-python",
   "name": "python",
   "nbconvert_exporter": "python",
   "pygments_lexer": "ipython3",
   "version": "3.10.9"
  }
 },
 "nbformat": 4,
 "nbformat_minor": 5
}
